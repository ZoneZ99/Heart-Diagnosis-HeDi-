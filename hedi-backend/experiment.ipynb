{
 "cells": [
  {
   "cell_type": "code",
   "execution_count": 2,
   "metadata": {
    "collapsed": true,
    "pycharm": {
     "is_executing": false
    }
   },
   "outputs": [],
   "source": [
    "from pprint import pprint\n",
    "from sklearn import metrics\n",
    "\n",
    "from decision_tree import DecisionTreeClassifier \n",
    "from dataset import load_cardio_dataset, train_test_split"
   ]
  },
  {
   "cell_type": "code",
   "execution_count": 3,
   "outputs": [],
   "source": [
    "cardio = load_cardio_dataset()"
   ],
   "metadata": {
    "collapsed": false,
    "pycharm": {
     "name": "#%%\n",
     "is_executing": false
    }
   }
  },
  {
   "cell_type": "code",
   "execution_count": null,
   "outputs": [],
   "source": [
    "# Ubah value dari test_size untuk menentukan banyak sample yang di-train\n",
    "x_train, x_test, y_train, y_test = train_test_split(cardio, test_size=0.99)\n",
    "print(len(x_train))\n",
    "print(len(y_train))\n",
    "print(len(x_test))\n",
    "print(len(y_test))"
   ],
   "metadata": {
    "collapsed": false,
    "pycharm": {
     "name": "#%%\n"
    }
   }
  },
  {
   "cell_type": "code",
   "execution_count": 6,
   "outputs": [],
   "source": [
    "clf = DecisionTreeClassifier(dataset=cardio, max_depth=5)"
   ],
   "metadata": {
    "collapsed": false,
    "pycharm": {
     "name": "#%%\n",
     "is_executing": false
    }
   }
  },
  {
   "cell_type": "code",
   "execution_count": 7,
   "outputs": [],
   "source": [
    "m = clf.fit(x_train, y_train)"
   ],
   "metadata": {
    "collapsed": false,
    "pycharm": {
     "name": "#%%\n",
     "is_executing": false
    }
   }
  },
  {
   "cell_type": "code",
   "execution_count": 8,
   "outputs": [
    {
     "name": "stdout",
     "text": [
      "{'Negative(0)': 343,\n 'Positive(1)': 357,\n 'col': 'Systolic Blood Pressure',\n 'cutoff': 135.0,\n 'index_col': 4,\n 'left': {'Negative(0)': 318,\n          'Positive(1)': 171,\n          'col': 'Age (days)',\n          'cutoff': 19676.0,\n          'index_col': 0,\n          'left': {'Negative(0)': 200,\n                   'Positive(1)': 63,\n                   'col': 'Weight (kg)',\n                   'cutoff': 64.0,\n                   'index_col': 3,\n                   'left': {'Negative(0)': 68,\n                            'Positive(1)': 9,\n                            'col': 'Age (days)',\n                            'cutoff': 14533.0,\n                            'index_col': 0,\n                            'left': {'val': 1},\n                            'right': {'Negative(0)': 68,\n                                      'Positive(1)': 7,\n                                      'col': 'Glucose (normal/above '\n                                             'normal/high)',\n                                      'cutoff': 2.0,\n                                      'index_col': 7,\n                                      'left': None,\n                                      'right': None,\n                                      'val': 0.0},\n                            'val': 0.0},\n                   'right': {'Negative(0)': 132,\n                             'Positive(1)': 54,\n                             'col': 'Age (days)',\n                             'cutoff': 16488.0,\n                             'index_col': 0,\n                             'left': {'Negative(0)': 49,\n                                      'Positive(1)': 8,\n                                      'col': 'Diastolic Blood Pressure',\n                                      'cutoff': 79.0,\n                                      'index_col': 5,\n                                      'left': {'val': 0},\n                                      'right': None,\n                                      'val': 0.0},\n                             'right': {'Negative(0)': 83,\n                                       'Positive(1)': 46,\n                                       'col': 'Systolic Blood Pressure',\n                                       'cutoff': 110.0,\n                                       'index_col': 4,\n                                       'left': {'val': 0},\n                                       'right': None,\n                                       'val': 0.0},\n                             'val': 0.0},\n                   'val': 0.0},\n          'right': {'Negative(0)': 118,\n                    'Positive(1)': 108,\n                    'col': 'Cholesterol (normal/above normal/high)',\n                    'cutoff': 3.0,\n                    'index_col': 6,\n                    'left': {'Negative(0)': 114,\n                             'Positive(1)': 88,\n                             'col': 'Systolic Blood Pressure',\n                             'cutoff': 120.0,\n                             'index_col': 4,\n                             'left': {'Negative(0)': 33,\n                                      'Positive(1)': 10,\n                                      'col': 'Weight (kg)',\n                                      'cutoff': 81.0,\n                                      'index_col': 3,\n                                      'left': None,\n                                      'right': None,\n                                      'val': 0.0},\n                             'right': {'Negative(0)': 81,\n                                       'Positive(1)': 78,\n                                       'col': 'Gender (F/M)',\n                                       'cutoff': 2.0,\n                                       'index_col': 1,\n                                       'left': None,\n                                       'right': None,\n                                       'val': 0.0},\n                             'val': 0.0},\n                    'right': {'Negative(0)': 4,\n                              'Positive(1)': 20,\n                              'col': 'Systolic Blood Pressure',\n                              'cutoff': 120.0,\n                              'index_col': 4,\n                              'left': {'val': 0},\n                              'right': {'Negative(0)': 3,\n                                        'Positive(1)': 20,\n                                        'col': 'Systolic Blood Pressure',\n                                        'cutoff': 130.0,\n                                        'index_col': 4,\n                                        'left': {'val': 1},\n                                        'right': None,\n                                        'val': 1.0},\n                              'val': 1.0},\n                    'val': 0.0},\n          'val': 0.0},\n 'right': {'Negative(0)': 25,\n           'Positive(1)': 186,\n           'col': 'Systolic Blood Pressure',\n           'cutoff': 145.0,\n           'index_col': 4,\n           'left': {'Negative(0)': 18,\n                    'Positive(1)': 85,\n                    'col': 'Height (cm)',\n                    'cutoff': 180.0,\n                    'index_col': 2,\n                    'left': {'Negative(0)': 17,\n                             'Positive(1)': 85,\n                             'col': 'Height (cm)',\n                             'cutoff': 163.0,\n                             'index_col': 2,\n                             'left': {'Negative(0)': 11,\n                                      'Positive(1)': 32,\n                                      'col': 'Age (days)',\n                                      'cutoff': 17471.0,\n                                      'index_col': 0,\n                                      'left': {'val': 0},\n                                      'right': None,\n                                      'val': 1.0},\n                             'right': {'Negative(0)': 6,\n                                       'Positive(1)': 53,\n                                       'col': 'Age (days)',\n                                       'cutoff': 19004.0,\n                                       'index_col': 0,\n                                       'left': {'val': 1},\n                                       'right': None,\n                                       'val': 1.0},\n                             'val': 1.0},\n                    'right': {'val': 0},\n                    'val': 1.0},\n           'right': {'Negative(0)': 7,\n                     'Positive(1)': 101,\n                     'col': 'Height (cm)',\n                     'cutoff': 169.0,\n                     'index_col': 2,\n                     'left': {'Negative(0)': 7,\n                              'Positive(1)': 72,\n                              'col': 'Height (cm)',\n                              'cutoff': 167.0,\n                              'index_col': 2,\n                              'left': {'Negative(0)': 5,\n                                       'Positive(1)': 69,\n                                       'col': 'Physical Activity (Yes/No)',\n                                       'cutoff': 1.0,\n                                       'index_col': 10,\n                                       'left': {'val': 1},\n                                       'right': None,\n                                       'val': 1.0},\n                              'right': {'Negative(0)': 2,\n                                        'Positive(1)': 3,\n                                        'col': 'Weight (kg)',\n                                        'cutoff': 80.0,\n                                        'index_col': 3,\n                                        'left': {'val': 1},\n                                        'right': {'val': 0},\n                                        'val': 1.0},\n                              'val': 1.0},\n                     'right': {'val': 1},\n                     'val': 1.0},\n           'val': 1.0},\n 'val': 1.0}\n"
     ],
     "output_type": "stream"
    }
   ],
   "source": [
    "pprint(m)"
   ],
   "metadata": {
    "collapsed": false,
    "pycharm": {
     "name": "#%%\n",
     "is_executing": false
    }
   }
  },
  {
   "cell_type": "code",
   "execution_count": 9,
   "outputs": [
    {
     "name": "stdout",
     "text": [
      "[0 0 0 ... 1 1 0]\n"
     ],
     "output_type": "stream"
    }
   ],
   "source": [
    "y_prediction = clf.predict(x_test)\n",
    "print(y_prediction)"
   ],
   "metadata": {
    "collapsed": false,
    "pycharm": {
     "name": "#%%\n",
     "is_executing": false
    }
   }
  },
  {
   "cell_type": "code",
   "execution_count": 10,
   "outputs": [
    {
     "name": "stdout",
     "text": [
      "Accuracy:  0.6904617604617604\n"
     ],
     "output_type": "stream"
    }
   ],
   "source": [
    "print(\"Accuracy: \", metrics.accuracy_score(y_test, y_prediction))"
   ],
   "metadata": {
    "collapsed": false,
    "pycharm": {
     "name": "#%%\n",
     "is_executing": false
    }
   }
  }
 ],
 "metadata": {
  "kernelspec": {
   "display_name": "Python 3",
   "language": "python",
   "name": "python3"
  },
  "language_info": {
   "codemirror_mode": {
    "name": "ipython",
    "version": 2
   },
   "file_extension": ".py",
   "mimetype": "text/x-python",
   "name": "python",
   "nbconvert_exporter": "python",
   "pygments_lexer": "ipython2",
   "version": "2.7.6"
  },
  "pycharm": {
   "stem_cell": {
    "cell_type": "raw",
    "source": [],
    "metadata": {
     "collapsed": false
    }
   }
  }
 },
 "nbformat": 4,
 "nbformat_minor": 0
}