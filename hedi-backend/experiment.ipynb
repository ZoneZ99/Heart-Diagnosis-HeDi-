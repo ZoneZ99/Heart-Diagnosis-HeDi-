{
 "cells": [
  {
   "cell_type": "code",
   "execution_count": 25,
   "metadata": {},
   "outputs": [],
   "source": [
    "from dataset import *\n",
    "from decision_tree import *\n",
    "from pprint import pprint"
   ]
  },
  {
   "cell_type": "code",
   "execution_count": 21,
   "metadata": {},
   "outputs": [
    {
     "name": "stdout",
     "output_type": "stream",
     "text": "700\n"
    }
   ],
   "source": [
    "cardio_data = load_cardio_dataset()\n",
    "x_train, x_test, y_train, y_test = train_test_split(\n",
    "    cardio_data,\n",
    "    test_size=0.8571\n",
    ")\n",
    "# Test size = 85.71% from 70K = 60K\n",
    "print(len(x_train))"
   ]
  },
  {
   "cell_type": "code",
   "execution_count": 22,
   "metadata": {},
   "outputs": [],
   "source": [
    "clf = DecisionTreeClassifier(dataset=cardio_data, max_depth=20)\n",
    "clf.fit_and_prune(x_train, y_train)"
   ]
  },
  {
   "cell_type": "code",
   "execution_count": 23,
   "metadata": {},
   "outputs": [],
   "source": [
    "tree_model = clf.trees\n",
    "# pprint(clf.trees)"
   ]
  },
  {
   "cell_type": "code",
   "execution_count": 24,
   "metadata": {
    "pycharm": {
     "name": "#%%\n"
    }
   },
   "outputs": [
    {
     "name": "stdout",
     "output_type": "stream",
     "text": "array([0, 0, 0, ..., 1, 0, 0])\nAccuracy: 0.6413564213564213\n"
    }
   ],
   "source": [
    "from sklearn import metrics\n",
    "\n",
    "y_prediction = clf.predict(x_test)\n",
    "pprint(y_prediction)\n",
    "print(f\"Accuracy: {metrics.accuracy_score(y_test, y_prediction)}\")\n",
    "print(f\"Precision: {metrics.precision_score(y_test, y_prediction)}\")\n",
    "print(f\"Recall: {metrics.recall_score(y_test, y_prediction)}\")"
   ]
  }
 ],
 "metadata": {
  "kernelspec": {
   "display_name": "Python 3",
   "language": "python",
   "name": "python3"
  },
  "language_info": {
   "codemirror_mode": {
    "name": "ipython",
    "version": 2
   },
   "file_extension": ".py",
   "mimetype": "text/x-python",
   "name": "python",
   "nbconvert_exporter": "python",
   "pygments_lexer": "ipython2",
   "version": "3.7.5"
  },
  "pycharm": {
   "stem_cell": {
    "cell_type": "raw",
    "source": [],
    "metadata": {
     "collapsed": false
    }
   }
  }
 },
 "nbformat": 4,
 "nbformat_minor": 0
}